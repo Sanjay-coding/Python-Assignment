{
 "cells": [
  {
   "cell_type": "markdown",
   "metadata": {},
   "source": [
    "# Python Assignment 3"
   ]
  },
  {
   "cell_type": "raw",
   "metadata": {},
   "source": [
    "1. Get the characters from index 2 to index 4 (llo)."
   ]
  },
  {
   "cell_type": "code",
   "execution_count": 4,
   "metadata": {},
   "outputs": [
    {
     "name": "stdout",
     "output_type": "stream",
     "text": [
      "llo\n"
     ]
    }
   ],
   "source": [
    "txt='Hello World'\n",
    "x=txt[2:5]\n",
    "print(x)"
   ]
  },
  {
   "cell_type": "raw",
   "metadata": {},
   "source": [
    "2. Return the string without any whitespace at the beginning or the end."
   ]
  },
  {
   "cell_type": "code",
   "execution_count": 5,
   "metadata": {},
   "outputs": [
    {
     "name": "stdout",
     "output_type": "stream",
     "text": [
      "Hello World\n"
     ]
    }
   ],
   "source": [
    "txt=' Hello World '\n",
    "x=txt.strip()\n",
    "print(x)"
   ]
  },
  {
   "cell_type": "raw",
   "metadata": {},
   "source": [
    "3. Convert the value of txt to upper case"
   ]
  },
  {
   "cell_type": "code",
   "execution_count": 7,
   "metadata": {},
   "outputs": [
    {
     "name": "stdout",
     "output_type": "stream",
     "text": [
      "HELLO WORLD\n"
     ]
    }
   ],
   "source": [
    "txt='Hello World'\n",
    "x=txt.upper()\n",
    "print(x)"
   ]
  },
  {
   "cell_type": "raw",
   "metadata": {},
   "source": [
    "4. Replace the character H with a J."
   ]
  },
  {
   "cell_type": "code",
   "execution_count": 9,
   "metadata": {},
   "outputs": [
    {
     "name": "stdout",
     "output_type": "stream",
     "text": [
      "Jello World\n"
     ]
    }
   ],
   "source": [
    "txt='Hello World'\n",
    "x=txt.replace('H', 'J')\n",
    "print(x)"
   ]
  },
  {
   "cell_type": "raw",
   "metadata": {},
   "source": [
    "5. Insert the correct syntax to add a placeholder for the age parameter"
   ]
  },
  {
   "cell_type": "code",
   "execution_count": 2,
   "metadata": {},
   "outputs": [
    {
     "name": "stdout",
     "output_type": "stream",
     "text": [
      "My name is John, and I am 36. \n"
     ]
    }
   ],
   "source": [
    "age=36\n",
    "txt='My name is John, and I am {}. '\n",
    "print(txt.format(age))"
   ]
  },
  {
   "cell_type": "raw",
   "metadata": {},
   "source": [
    "6. What is the output of the print() function call?"
   ]
  },
  {
   "cell_type": "code",
   "execution_count": 3,
   "metadata": {},
   "outputs": [
    {
     "name": "stdout",
     "output_type": "stream",
     "text": [
      "True\n"
     ]
    }
   ],
   "source": [
    "s='coding'\n",
    "t='hero'\n",
    "print('dingh' in 2*(s+t))"
   ]
  },
  {
   "cell_type": "raw",
   "metadata": {},
   "source": [
    "7. What is the slice expression that gives every third character of string s, starting\n",
    "    with the last character and proceeding backward to the first?"
   ]
  },
  {
   "cell_type": "code",
   "execution_count": 16,
   "metadata": {},
   "outputs": [
    {
     "name": "stdout",
     "output_type": "stream",
     "text": [
      "din\n"
     ]
    }
   ],
   "source": [
    "txt='coding'\n",
    "s=txt[-4:-1]\n",
    "print(s)"
   ]
  },
  {
   "cell_type": "raw",
   "metadata": {},
   "source": [
    "8. Which of the following are true:\n",
    "\n",
    "a. s[:] is s \n",
    "b. s[::-1][::-1] == s\n",
    "c. s[::-1][::-1] is s \n",
    "d. s[:] == s\n",
    "\n",
    "Answer:- a,b,c"
   ]
  },
  {
   "cell_type": "raw",
   "metadata": {},
   "source": [
    "9. What is the output from this print() function call:\n",
    "\n",
    "a. 3 2 1 \n",
    "b. 3 1 1\n",
    "c. 3 1 2 \n",
    "d. 3 1 0"
   ]
  },
  {
   "cell_type": "code",
   "execution_count": 21,
   "metadata": {},
   "outputs": [
    {
     "name": "stdout",
     "output_type": "stream",
     "text": [
      "3 1 2\n"
     ]
    }
   ],
   "source": [
    "print(\n",
    "    '$100, $200, $300'.count('$'),\n",
    "    '$100, $200, $300'.count('$',5,10),\n",
    "    '$100, $200, $300'.count('$',5)\n",
    ")"
   ]
  },
  {
   "cell_type": "raw",
   "metadata": {},
   "source": [
    "Answer:- c"
   ]
  },
  {
   "cell_type": "raw",
   "metadata": {},
   "source": [
    "10. Suppose s is assigned as follows:\n",
    "\n",
    " s = 'coding-hero'\n",
    " Which of the following expressions evaluates to a string equal to s:\n",
    " \n",
    "a. s.upper().lower() \n",
    "b. s.strip('-')\n",
    "c. '-'.join(s.partition('-')) \n",
    "d. '-'.join(s.split('-')\n",
    "\n",
    "Answer:- a,b"
   ]
  },
  {
   "cell_type": "raw",
   "metadata": {},
   "source": [
    "11. What is the output of the following code"
   ]
  },
  {
   "cell_type": "code",
   "execution_count": 28,
   "metadata": {},
   "outputs": [
    {
     "name": "stdout",
     "output_type": "stream",
     "text": [
      "codingheroes\n",
      "coding heroes\n",
      "coding heroes\n",
      "coding heroes\n"
     ]
    }
   ],
   "source": [
    "print('coding' 'heroes')\n",
    "print('coding ' 'heroes')\n",
    "print('coding' ' heroes')\n",
    "print('coding heroes')"
   ]
  },
  {
   "cell_type": "raw",
   "metadata": {},
   "source": [
    "12.Which of the following operators can be used with Strings?\n",
    "\n",
    "a) +\n",
    "b) *\n",
    "c) -\n",
    "d) in\n",
    "\n",
    "Answer:- a,b,d"
   ]
  },
  {
   "cell_type": "raw",
   "metadata": {},
   "source": [
    "13.Which of the following statements can be used to return the length of the\n",
    "given String, str?\n",
    "\n",
    "a. str.len() \n",
    "b. len(str)\n",
    "c. size(str) \n",
    "d. str.size()\n",
    "\n",
    "Answer:- b"
   ]
  },
  {
   "cell_type": "raw",
   "metadata": {},
   "source": [
    "14. Which of the answers would print the output as given below?\n",
    "C:\\Common\\TestString.doc\n",
    "\n",
    "\n",
    "a.str='C:\\Common\\TestStri\\ng.doc'\n",
    "\n",
    "         print(str)\n",
    "         \n",
    "b.str='''C:\\Common\\testString.doc'''\n",
    "\n",
    "         print(str)\n",
    "         \n",
    "c.str='C:\\Common\\testString.doc'\n",
    "\n",
    "         print(str)\n",
    "         \n",
    "d.str='C:\\Commo\\n\\testSt\\ring.doc'\n",
    "\n",
    "         print(str)\n",
    "         \n",
    "         \n",
    "Answer:- C"
   ]
  },
  {
   "cell_type": "raw",
   "metadata": {},
   "source": [
    "15. What is the output when following statement is executed?\n",
    "\n",
    "a. GOOD-bye \n",
    "b. GOOD-BYE\n",
    "c. Good-Bye \n",
    "d. Good-bye"
   ]
  },
  {
   "cell_type": "code",
   "execution_count": 1,
   "metadata": {},
   "outputs": [
    {
     "name": "stdout",
     "output_type": "stream",
     "text": [
      "Good-bye\n"
     ]
    }
   ],
   "source": [
    "str='good-BYE'\n",
    "print(str.capitalize())"
   ]
  },
  {
   "cell_type": "raw",
   "metadata": {},
   "source": [
    "Answer:- d"
   ]
  },
  {
   "cell_type": "raw",
   "metadata": {},
   "source": [
    "16. Which of the following is the output of the below Python code?\n",
    "\n",
    "a. 4, 7 \n",
    "b. 2\n",
    "c. 4 \n",
    "d. 7"
   ]
  },
  {
   "cell_type": "code",
   "execution_count": 2,
   "metadata": {},
   "outputs": [
    {
     "name": "stdout",
     "output_type": "stream",
     "text": [
      "4\n"
     ]
    }
   ],
   "source": [
    "str='Hello World'\n",
    "print(str.find('o'))"
   ]
  },
  {
   "cell_type": "raw",
   "metadata": {},
   "source": [
    "Answer:- c"
   ]
  },
  {
   "cell_type": "raw",
   "metadata": {},
   "source": [
    "17. What is the output of the below Python code?"
   ]
  },
  {
   "cell_type": "code",
   "execution_count": 3,
   "metadata": {},
   "outputs": [
    {
     "name": "stdout",
     "output_type": "stream",
     "text": [
      "ng He\n"
     ]
    }
   ],
   "source": [
    "str='Coding Hero'\n",
    "print(str[4:9])"
   ]
  },
  {
   "cell_type": "raw",
   "metadata": {},
   "source": [
    "18. Write a program to check if the word 'orange' is present in the \"This is\n",
    "orange juice"
   ]
  },
  {
   "cell_type": "code",
   "execution_count": 4,
   "metadata": {},
   "outputs": [
    {
     "name": "stdout",
     "output_type": "stream",
     "text": [
      "True\n"
     ]
    }
   ],
   "source": [
    "# Answer:-\n",
    "\n",
    "txt='This is orange juice'\n",
    "print('orange' in txt)"
   ]
  },
  {
   "cell_type": "raw",
   "metadata": {},
   "source": [
    "19. Write a program that takes your full name as input and displays the\n",
    "abbreviations of the first and middle names except the last name which is displayed as\n",
    "it is. For example, if your name is Robert Bred Rochser, then the output should be\n",
    "R.B.Rochser."
   ]
  },
  {
   "cell_type": "raw",
   "metadata": {},
   "source": [
    "# Answer:-\n",
    "\n",
    "Sorry but I am struggling on this question"
   ]
  },
  {
   "cell_type": "raw",
   "metadata": {},
   "source": [
    "20. Write a program to check if a given string is a Palindrome. A palindrome\n",
    "reads same from front and back e.g.- aba, ccaacc, mom, etc"
   ]
  },
  {
   "cell_type": "code",
   "execution_count": 10,
   "metadata": {},
   "outputs": [
    {
     "name": "stdout",
     "output_type": "stream",
     "text": [
      "write a wordmom\n",
      "This is a palindrome\n"
     ]
    }
   ],
   "source": [
    "# Answer:-\n",
    "name=input('write a word')\n",
    "x=name[::-1]\n",
    "if(name==x):\n",
    "    print('This is a palindrome')\n",
    "else:\n",
    "    print('This is not a palindrome')\n",
    " "
   ]
  },
  {
   "cell_type": "raw",
   "metadata": {},
   "source": [
    "21.What gets printed?"
   ]
  },
  {
   "cell_type": "code",
   "execution_count": 11,
   "metadata": {},
   "outputs": [
    {
     "name": "stdout",
     "output_type": "stream",
     "text": [
      "\\ncodinghero\n",
      "\n",
      "codinghero\n"
     ]
    }
   ],
   "source": [
    "print(r\"\\ncodinghero\")\n",
    "print('\\ncodinghero')"
   ]
  },
  {
   "cell_type": "raw",
   "metadata": {},
   "source": [
    "Answer:- Both"
   ]
  },
  {
   "cell_type": "raw",
   "metadata": {},
   "source": [
    "22. Which of the following would separate a string input_string on the first 2\n",
    "occurences of the letter “e”?\n",
    "\n",
    "a. 'e'.split(input_string, 2) \n",
    "b. input_string.split('e', 2)\n",
    "c. input_string.split('e',maxsplit=2)\n",
    "d. 'e'.split(input_string,maxsplit=2)\n",
    "\n",
    "Answer:- B"
   ]
  },
  {
   "cell_type": "raw",
   "metadata": {},
   "source": [
    "23. A price such as £3.65 should be saved as what kind of variable?\n",
    "\n",
    "a. String \n",
    "b. Integer\n",
    "c. Float \n",
    "d. Boolean\n",
    "\n",
    "Answer:- Float"
   ]
  }
 ],
 "metadata": {
  "kernelspec": {
   "display_name": "Python 3",
   "language": "python",
   "name": "python3"
  },
  "language_info": {
   "codemirror_mode": {
    "name": "ipython",
    "version": 3
   },
   "file_extension": ".py",
   "mimetype": "text/x-python",
   "name": "python",
   "nbconvert_exporter": "python",
   "pygments_lexer": "ipython3",
   "version": "3.8.5"
  }
 },
 "nbformat": 4,
 "nbformat_minor": 4
}
