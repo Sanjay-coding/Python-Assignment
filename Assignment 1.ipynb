{
 "cells": [
  {
   "cell_type": "markdown",
   "metadata": {},
   "source": [
    "# Python assignment"
   ]
  },
  {
   "cell_type": "raw",
   "metadata": {},
   "source": [
    "1.What is the output of the following code?"
   ]
  },
  {
   "cell_type": "code",
   "execution_count": 1,
   "metadata": {},
   "outputs": [
    {
     "name": "stdout",
     "output_type": "stream",
     "text": [
      "10 20 30\n"
     ]
    }
   ],
   "source": [
    "p, q, r = 10, 20, 30\n",
    "print(p, q, r)"
   ]
  },
  {
   "cell_type": "raw",
   "metadata": {},
   "source": [
    "2.In Python, what is one function to output content to the\n",
    "console?\n",
    "\n",
    "a.echo  b.output\n",
    "c.print  d.console.log\n",
    "\n",
    "answer:- c.print"
   ]
  },
  {
   "cell_type": "raw",
   "metadata": {},
   "source": [
    "3.Which of the following statements is NOT true about\n",
    "Python?\n",
    "\n",
    "a.Python’s syntax is\n",
    "much like PHP\n",
    "\n",
    "b. Python can be used for\n",
    "web development\n",
    "\n",
    "c. Python can run on any\n",
    "type of platform\n",
    "\n",
    "d. Python can be used to\n",
    "generate dynamic web\n",
    "pages\n",
    "\n",
    "\n",
    "Answer:- b. Python can be used for\n",
    "web development"
   ]
  },
  {
   "cell_type": "raw",
   "metadata": {},
   "source": [
    "5.What can you put before and after a section to make all\n",
    "of the lines a comment?\n",
    "\n",
    "a. ’’’ or ”””  b. ///\n",
    "e.###  f. comment\n",
    "\n",
    "Answer:- a. ''' or \"\"\"\n"
   ]
  },
  {
   "cell_type": "raw",
   "metadata": {},
   "source": [
    "6.How do you create a variable “a” that is equal to 2?\n",
    "\n",
    "a. var a = 2  b. int a = 2\n",
    "c. a = 2   d. variable a = 2\n",
    "\n",
    "Answer:- a=2"
   ]
  },
  {
   "cell_type": "raw",
   "metadata": {},
   "source": [
    "7.Which of the following is not a valid assignment operator?\n",
    "\n",
    "a. +=  b.-=\n",
    "c. *=  d. =\n",
    "\n",
    "Answer:- b.-="
   ]
  },
  {
   "cell_type": "raw",
   "metadata": {},
   "source": [
    "8.Which one of the following is a valid Python if statement\n",
    "\n",
    "a. if a >= 22:   b. if (a >= 22)\n",
    "c. if (a => 22)  d. if a >= 22\n",
    "\n",
    "Answer:- a. if a >= 22:"
   ]
  },
  {
   "cell_type": "raw",
   "metadata": {},
   "source": [
    "9.Which function displays a message on the screen in\n",
    "Python?\n",
    "\n",
    "a. sys.out.println()   b. print()\n",
    "c. writeln()   d. console.writeln()\n",
    "\n",
    "Answer:- b.print()\n"
   ]
  },
  {
   "cell_type": "raw",
   "metadata": {},
   "source": [
    "10.Indentify valid variable names\n",
    "\n",
    "a.2abc   b._abc\n",
    "c.ab’c   d. while\n",
    "\n",
    "Answer:- b._abc"
   ]
  },
  {
   "cell_type": "raw",
   "metadata": {},
   "source": [
    "11.Which of the following variable names is valid in Python?\n",
    "\n",
    "a. 2_apple     b. 2-apple\n",
    "c. two_apple   d. two-apple\n",
    "\n",
    "Answer:- c. two_apple"
   ]
  },
  {
   "cell_type": "raw",
   "metadata": {},
   "source": [
    "12.Which of the following variable names is NOT valid in\n",
    "Python?\n",
    "\n",
    "a. name   b. width\n",
    "c. for    d. length\n",
    "\n",
    "Answer:- c. for"
   ]
  },
  {
   "cell_type": "code",
   "execution_count": null,
   "metadata": {},
   "outputs": [],
   "source": []
  }
 ],
 "metadata": {
  "kernelspec": {
   "display_name": "Python 3",
   "language": "python",
   "name": "python3"
  },
  "language_info": {
   "codemirror_mode": {
    "name": "ipython",
    "version": 3
   },
   "file_extension": ".py",
   "mimetype": "text/x-python",
   "name": "python",
   "nbconvert_exporter": "python",
   "pygments_lexer": "ipython3",
   "version": "3.8.5"
  }
 },
 "nbformat": 4,
 "nbformat_minor": 4
}
