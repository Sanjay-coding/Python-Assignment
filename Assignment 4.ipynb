{
 "cells": [
  {
   "cell_type": "markdown",
   "metadata": {},
   "source": [
    "# Python Assignment 4"
   ]
  },
  {
   "cell_type": "markdown",
   "metadata": {},
   "source": [
    "1. What does the following code print to the console?\n",
    "\n",
    "print(4 == 99)\n",
    "\n",
    "a. True \n",
    "b. False\n",
    "\n",
    "Answer:-False"
   ]
  },
  {
   "cell_type": "markdown",
   "metadata": {},
   "source": [
    "2. What does the following code print to the console?\n",
    "print(10 == 10)\n",
    "\n",
    "a. True \n",
    "b. False\n",
    "\n",
    "Answer:- a"
   ]
  },
  {
   "cell_type": "markdown",
   "metadata": {},
   "source": [
    "c. What does the following code print to the console?\n",
    "print(\"cat\" != \"dog\")\n",
    "\n",
    "a. True \n",
    "b. False\n",
    "\n",
    "Answer:- a"
   ]
  },
  {
   "cell_type": "markdown",
   "metadata": {},
   "source": [
    "c. What does the following code print to the console?\n",
    "print(\"lion\" == \"cat\" or 99 != 88)\n",
    "\n",
    "a. True \n",
    "b. False\n",
    "\n",
    "Answer:- a"
   ]
  },
  {
   "cell_type": "markdown",
   "metadata": {},
   "source": [
    "5. What does the following code print to the console?\n",
    "print(True and (4 == 4))\n",
    "\n",
    "a. True \n",
    "b. False\n",
    "\n",
    "Answer:- a"
   ]
  },
  {
   "cell_type": "markdown",
   "metadata": {},
   "source": [
    "6. Which of the following is a Boolean expression? Select all that apply?\n",
    "\n",
    "a. True\n",
    "b. 3 == 4\n",
    "c. 3 + 4\n",
    "d. 3 + 4 == 7 \n",
    "e. \"False\"\n",
    "\n",
    "Answer:- a,b"
   ]
  },
  {
   "cell_type": "markdown",
   "metadata": {},
   "source": [
    "7. What does the following code print to the console?\n",
    "\n",
    "a. True \n",
    "b. False"
   ]
  },
  {
   "cell_type": "code",
   "execution_count": 1,
   "metadata": {},
   "outputs": [
    {
     "name": "stdout",
     "output_type": "stream",
     "text": [
      "True\n"
     ]
    }
   ],
   "source": [
    "is_it_true=(3*4>10) and (5+5>=10)\n",
    "\n",
    "print(is_it_true)"
   ]
  },
  {
   "cell_type": "markdown",
   "metadata": {},
   "source": [
    "Answer:- a"
   ]
  },
  {
   "cell_type": "markdown",
   "metadata": {},
   "source": [
    "8. What does the following code print to the console?\n",
    "\n",
    "a. True \n",
    "b. False"
   ]
  },
  {
   "cell_type": "code",
   "execution_count": 2,
   "metadata": {},
   "outputs": [
    {
     "name": "stdout",
     "output_type": "stream",
     "text": [
      "True\n"
     ]
    }
   ],
   "source": [
    "is_it_true=(3*4>10) and (5+5>=10) and (4*4>5)\n",
    "\n",
    "print(is_it_true)"
   ]
  },
  {
   "cell_type": "markdown",
   "metadata": {},
   "source": [
    "Answer:- a"
   ]
  },
  {
   "cell_type": "markdown",
   "metadata": {},
   "source": [
    "9. What does the following code print to the console?\n",
    "\n",
    "a. True \n",
    "b. False"
   ]
  },
  {
   "cell_type": "code",
   "execution_count": 1,
   "metadata": {},
   "outputs": [
    {
     "name": "stdout",
     "output_type": "stream",
     "text": [
      "True\n"
     ]
    }
   ],
   "source": [
    "is_it_true=(3*4>10) and (5+5>=10) and (4*4>5)\n",
    "\n",
    "print(is_it_true)"
   ]
  },
  {
   "cell_type": "markdown",
   "metadata": {},
   "source": [
    "Answe:- a"
   ]
  },
  {
   "cell_type": "markdown",
   "metadata": {},
   "source": [
    "10. What does the following code print to the console?\n",
    "\n",
    "a. True b. False"
   ]
  },
  {
   "cell_type": "code",
   "execution_count": 2,
   "metadata": {},
   "outputs": [
    {
     "name": "stdout",
     "output_type": "stream",
     "text": [
      "True\n"
     ]
    }
   ],
   "source": [
    "a,b=10,20\n",
    "print(not(a>b and a!=b)or a!=b)"
   ]
  },
  {
   "cell_type": "markdown",
   "metadata": {},
   "source": []
  }
 ],
 "metadata": {
  "kernelspec": {
   "display_name": "Python 3",
   "language": "python",
   "name": "python3"
  },
  "language_info": {
   "codemirror_mode": {
    "name": "ipython",
    "version": 3
   },
   "file_extension": ".py",
   "mimetype": "text/x-python",
   "name": "python",
   "nbconvert_exporter": "python",
   "pygments_lexer": "ipython3",
   "version": "3.8.5"
  }
 },
 "nbformat": 4,
 "nbformat_minor": 4
}
