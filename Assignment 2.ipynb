{
 "cells": [
  {
   "cell_type": "markdown",
   "metadata": {},
   "source": [
    "# Python Assignment 2"
   ]
  },
  {
   "cell_type": "markdown",
   "metadata": {},
   "source": [
    "1. Which of the following are valid number data types in Python 3? Select all that\n",
    "apply:\n",
    "\n",
    "a. num \n",
    "b. float\n",
    "c. str \n",
    "d. int\n",
    "e. long\n",
    "\n",
    "Answer:- int, float"
   ]
  },
  {
   "cell_type": "markdown",
   "metadata": {},
   "source": [
    "2. What’s the name of the function for rounding numbers in Python?\n",
    "\n",
    "Answer:- round()"
   ]
  },
  {
   "cell_type": "markdown",
   "metadata": {},
   "source": [
    "3. How do you get the absolute value of a number in Python?\n",
    "\n",
    "a. abs(-3.14)\n",
    "b. |-3.14|\n",
    "\n",
    "Answer:- abs(-3.14)"
   ]
  },
  {
   "cell_type": "markdown",
   "metadata": {},
   "source": [
    "4. What is the output of the following round() function call?\n",
    "\n",
    "a. 100.256\n",
    "100\n",
    "\n",
    "b. 100.256\n",
    "100.000\n",
    "\n",
    "c. 100.256\n",
    "100.0"
   ]
  },
  {
   "cell_type": "code",
   "execution_count": 1,
   "metadata": {},
   "outputs": [
    {
     "name": "stdout",
     "output_type": "stream",
     "text": [
      "100.256\n",
      "100.0\n"
     ]
    }
   ],
   "source": [
    "print(round(100.2563, 3))\n",
    "print(round(100.000056, 3))"
   ]
  },
  {
   "cell_type": "markdown",
   "metadata": {},
   "source": [
    "Answer:- 100.256\n",
    "         100.0"
   ]
  },
  {
   "cell_type": "markdown",
   "metadata": {},
   "source": [
    "5. What is the output of the following number conversion\n",
    "\n",
    "z = complex(1.25)\n",
    "\n",
    "a. (1.25+0j)\n",
    "\n",
    "b. Value Error: Missing an\n",
    "imaginary part of a complex\n",
    "number\n",
    "\n",
    "Answer:- (1.25+0j)"
   ]
  },
  {
   "cell_type": "markdown",
   "metadata": {},
   "source": [
    "6. What is the output of print(abs(-45.300))\n",
    "\n",
    "a. 45.3\n",
    "b. -45.3\n",
    "c. -45.300 \n",
    "d. 45.300\n"
   ]
  },
  {
   "cell_type": "code",
   "execution_count": 1,
   "metadata": {},
   "outputs": [
    {
     "name": "stdout",
     "output_type": "stream",
     "text": [
      "45.3\n"
     ]
    }
   ],
   "source": [
    "print(abs(-45.300))"
   ]
  },
  {
   "cell_type": "markdown",
   "metadata": {},
   "source": [
    "7. What is the output of the following math function\n",
    "\n",
    "a. 252\n",
    "252\n",
    "\n",
    "b. 252\n",
    "253\n",
    "\n",
    "c. 253\n",
    "252"
   ]
  },
  {
   "cell_type": "code",
   "execution_count": 1,
   "metadata": {},
   "outputs": [
    {
     "name": "stdout",
     "output_type": "stream",
     "text": [
      "253\n",
      "252\n"
     ]
    }
   ],
   "source": [
    "import math\n",
    "print (math.ceil(252.4))\n",
    "print (math.floor(252.4))"
   ]
  },
  {
   "cell_type": "markdown",
   "metadata": {},
   "source": [
    "Answer:-  253\n",
    "252"
   ]
  },
  {
   "cell_type": "markdown",
   "metadata": {},
   "source": [
    "8. Select all correct float numbers\n",
    "\n",
    "a). a = 10.1256 \n",
    "b). b = -10.5\n",
    "c). c = 42e3 \n",
    "d). d = -68.7e100\n",
    "\n",
    "Answer:- a=10.1256, b=-10.5"
   ]
  },
  {
   "cell_type": "markdown",
   "metadata": {},
   "source": [
    "9. What is the output of the following code\n",
    "\n",
    "a. ValueError: invalid literal\n",
    "for int()\n",
    "\n",
    "b. 3\n",
    "\n",
    "c. 2"
   ]
  },
  {
   "cell_type": "code",
   "execution_count": 2,
   "metadata": {},
   "outputs": [
    {
     "name": "stdout",
     "output_type": "stream",
     "text": [
      "2\n"
     ]
    }
   ],
   "source": [
    "print(int(2.999))"
   ]
  },
  {
   "cell_type": "markdown",
   "metadata": {},
   "source": [
    "Answer:- 2"
   ]
  },
  {
   "cell_type": "markdown",
   "metadata": {},
   "source": [
    "10 .Which Data Type represents a whole number?\n",
    "\n",
    "a. String \n",
    "b. Integer\n",
    "c. Float \n",
    "d. Boolean\n",
    "\n",
    "Answer: Integer"
   ]
  },
  {
   "cell_type": "markdown",
   "metadata": {},
   "source": [
    "11. What data type to store the pi=3.14\n",
    "\n",
    "a. String\n",
    "b. Integer\n",
    "c. Float \n",
    "d. Boolean\n",
    "\n",
    "Answer:- Float"
   ]
  },
  {
   "cell_type": "markdown",
   "metadata": {},
   "source": [
    "12. What data type for a variable called numberOfLives in a game?\n",
    "\n",
    "a. String \n",
    "b. Integer\n",
    "c. Float \n",
    "d. Boolean\n",
    "\n",
    "Answer:- Float"
   ]
  },
  {
   "cell_type": "markdown",
   "metadata": {},
   "source": [
    "13. What is the correct definition for a VARIABLE?\n",
    "\n",
    "a. a changeable value, such as a\n",
    "score in a computer game.\n",
    "\n",
    "b. a value that cannot be changed\n",
    "\n",
    "Answer:- A. a changeable value, such as a\n",
    "score in a computer game.\n"
   ]
  },
  {
   "cell_type": "markdown",
   "metadata": {},
   "source": [
    "14. The value 1.73 rounded to one decimal place using the “rounding up” strategy\n",
    "is…\n",
    "\n",
    "a. 1.7 \n",
    "b. 1.8\n",
    "\n",
    "Answer:- 1.8"
   ]
  },
  {
   "cell_type": "markdown",
   "metadata": {},
   "source": [
    "15. The value -2.961 rounded to two decimal places using the “rounding down”\n",
    "strategy is…\n",
    "\n",
    "c. -2.97\n",
    "d. -2.96\n",
    "\n",
    "Answer:- -2.96"
   ]
  },
  {
   "cell_type": "markdown",
   "metadata": {},
   "source": [
    "16. Which of the following is not a complex number?\n",
    "\n",
    "a. k = 2 + 3j\n",
    "b. k = complex(2, 3)\n",
    "c. k = 2 + 3l \n",
    "d. k = 2 + 3J\n",
    "\n",
    "Answer:- k=2+3l"
   ]
  },
  {
   "cell_type": "markdown",
   "metadata": {},
   "source": [
    "17.What will be the output of the following code :\n",
    "print (type(type(int))).\n",
    "\n",
    "a. type 'int' \n",
    "b. type 'type'\n",
    "c. Error \n",
    "d. 0"
   ]
  },
  {
   "cell_type": "code",
   "execution_count": 7,
   "metadata": {},
   "outputs": [
    {
     "name": "stdout",
     "output_type": "stream",
     "text": [
      "<class 'type'>\n"
     ]
    }
   ],
   "source": [
    "print (type(type(int)))"
   ]
  },
  {
   "cell_type": "markdown",
   "metadata": {},
   "source": [
    "Answer:- type 'type'"
   ]
  },
  {
   "cell_type": "markdown",
   "metadata": {},
   "source": [
    "18. Which of the following functions is a built-in function in python?\n",
    "\n",
    "a. seed() \n",
    "b. sqrt()\n",
    "c. factorial() \n",
    "d. print()\n",
    "\n",
    "Answer:- print()"
   ]
  },
  {
   "cell_type": "markdown",
   "metadata": {},
   "source": [
    "19. What will be the output of the following Python expression?\n",
    "round(4.576)\n",
    "\n",
    "a. 4.5 \n",
    "b. 5\n",
    "c. 4 \n",
    "d. 4.6"
   ]
  },
  {
   "cell_type": "code",
   "execution_count": 4,
   "metadata": {},
   "outputs": [
    {
     "data": {
      "text/plain": [
       "5"
      ]
     },
     "execution_count": 4,
     "metadata": {},
     "output_type": "execute_result"
    }
   ],
   "source": [
    "round(4.576)"
   ]
  },
  {
   "cell_type": "markdown",
   "metadata": {},
   "source": [
    "Answer:- 5"
   ]
  },
  {
   "cell_type": "markdown",
   "metadata": {},
   "source": [
    "20. What will be the output of the following Python function?\n",
    "min(max(False,-3,-4), 2,7)\n",
    "\n",
    "a. 2 \n",
    "b. False\n",
    "c. -3 \n",
    "d. -4"
   ]
  },
  {
   "cell_type": "code",
   "execution_count": 5,
   "metadata": {},
   "outputs": [
    {
     "data": {
      "text/plain": [
       "False"
      ]
     },
     "execution_count": 5,
     "metadata": {},
     "output_type": "execute_result"
    }
   ],
   "source": [
    "min(max(False,-3,-4), 2,7)"
   ]
  },
  {
   "cell_type": "markdown",
   "metadata": {},
   "source": [
    "Answer:- False"
   ]
  },
  {
   "cell_type": "markdown",
   "metadata": {},
   "source": [
    "21. Which of the following is the use of id() function in python?\n",
    "\n",
    "a. Id() returns the size of\n",
    "object.\n",
    "\n",
    "b. Id() returns the identity of\n",
    "the object.\n",
    "\n",
    "c. Both A and B \n",
    "\n",
    "d. None of the above\n",
    "\n",
    "Answer:- b. Id() returns the identity of\n",
    "the object.\n"
   ]
  },
  {
   "cell_type": "markdown",
   "metadata": {},
   "source": [
    "22. If we change one data type to another, then it is called\n",
    "\n",
    "a. Type conversion \n",
    "b. Type casting\n",
    "c. Both A and B \n",
    "d. None of the above\n",
    "\n",
    "Answer:- Type conversion"
   ]
  },
  {
   "cell_type": "markdown",
   "metadata": {},
   "source": [
    "23. type() function in python is\n",
    "\n",
    "a. User defined \n",
    "b. predefined\n",
    "c. It is not function \n",
    "d. None of the above\n",
    "\n",
    "Answer:- predefined"
   ]
  },
  {
   "cell_type": "markdown",
   "metadata": {},
   "source": [
    "24. What is the output of the following function print(type(3))\n",
    "\n",
    "a. int \n",
    "b. char\n",
    "c. array \n",
    "d. None of the above"
   ]
  },
  {
   "cell_type": "code",
   "execution_count": 6,
   "metadata": {},
   "outputs": [
    {
     "name": "stdout",
     "output_type": "stream",
     "text": [
      "<class 'int'>\n"
     ]
    }
   ],
   "source": [
    "print(type(3))"
   ]
  },
  {
   "cell_type": "markdown",
   "metadata": {},
   "source": [
    "Answer:- int"
   ]
  },
  {
   "cell_type": "markdown",
   "metadata": {},
   "source": [
    "25. What is the type of inf?\n",
    "\n",
    "a. int \n",
    "b. Float\n",
    "c. complex \n",
    "d. Boolean\n",
    "\n",
    "Answer:- Float"
   ]
  }
 ],
 "metadata": {
  "kernelspec": {
   "display_name": "Python 3",
   "language": "python",
   "name": "python3"
  },
  "language_info": {
   "codemirror_mode": {
    "name": "ipython",
    "version": 3
   },
   "file_extension": ".py",
   "mimetype": "text/x-python",
   "name": "python",
   "nbconvert_exporter": "python",
   "pygments_lexer": "ipython3",
   "version": "3.8.5"
  }
 },
 "nbformat": 4,
 "nbformat_minor": 4
}
