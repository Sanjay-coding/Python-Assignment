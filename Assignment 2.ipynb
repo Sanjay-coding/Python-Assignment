{
 "cells": [
  {
   "cell_type": "markdown",
   "metadata": {},
   "source": [
    "# Python Assignment 2"
   ]
  },
  {
   "cell_type": "raw",
   "metadata": {},
   "source": [
    "1. Which of the following are valid number data types in Python 3? Select all that\n",
    "apply:\n",
    "\n",
    "a. num \n",
    "b. float\n",
    "c. str \n",
    "d. int\n",
    "e. long\n",
    "\n",
    "Answer:- int, float"
   ]
  },
  {
   "cell_type": "raw",
   "metadata": {},
   "source": [
    "2. What’s the name of the function for rounding numbers in Python?\n",
    "\n",
    "Answer:- round()"
   ]
  },
  {
   "cell_type": "raw",
   "metadata": {},
   "source": [
    "3. How do you get the absolute value of a number in Python?\n",
    "\n",
    "a. abs(-3.14)\n",
    "b. |-3.14|\n",
    "\n",
    "Answer:- abs(-3.14)"
   ]
  },
  {
   "cell_type": "raw",
   "metadata": {},
   "source": [
    "4. What is the output of the following round() function call?\n",
    "\n",
    "a. 100.256\n",
    "100\n",
    "\n",
    "b. 100.256\n",
    "100.000\n",
    "\n",
    "c. 100.256\n",
    "100.0"
   ]
  },
  {
   "cell_type": "code",
   "execution_count": 1,
   "metadata": {},
   "outputs": [
    {
     "name": "stdout",
     "output_type": "stream",
     "text": [
      "100.256\n",
      "100.0\n"
     ]
    }
   ],
   "source": [
    "print(round(100.2563, 3))\n",
    "print(round(100.000056, 3))"
   ]
  },
  {
   "cell_type": "raw",
   "metadata": {},
   "source": [
    "Answer:- 100.256\n",
    "         100.0"
   ]
  },
  {
   "cell_type": "raw",
   "metadata": {},
   "source": [
    "5. What is the output of the following number conversion\n",
    "\n",
    "z = complex(1.25)\n",
    "\n",
    "a. (1.25+0j)\n",
    "\n",
    "b. Value Error: Missing an\n",
    "imaginary part of a complex\n",
    "number\n",
    "\n",
    "Answer:- (1.25+0j)"
   ]
  },
  {
   "cell_type": "raw",
   "metadata": {},
   "source": [
    "6. What is the output of print(abs(-45.300))\n",
    "\n",
    "a. 45.3\n",
    "b. -45.3\n",
    "c. -45.300 \n",
    "d. 45.300\n"
   ]
  },
  {
   "cell_type": "code",
   "execution_count": 1,
   "metadata": {},
   "outputs": [
    {
     "name": "stdout",
     "output_type": "stream",
     "text": [
      "45.3\n"
     ]
    }
   ],
   "source": [
    "print(abs(-45.300))"
   ]
  },
  {
   "cell_type": "code",
   "execution_count": null,
   "metadata": {},
   "outputs": [],
   "source": []
  }
 ],
 "metadata": {
  "kernelspec": {
   "display_name": "Python 3",
   "language": "python",
   "name": "python3"
  },
  "language_info": {
   "codemirror_mode": {
    "name": "ipython",
    "version": 3
   },
   "file_extension": ".py",
   "mimetype": "text/x-python",
   "name": "python",
   "nbconvert_exporter": "python",
   "pygments_lexer": "ipython3",
   "version": "3.8.5"
  }
 },
 "nbformat": 4,
 "nbformat_minor": 4
}
